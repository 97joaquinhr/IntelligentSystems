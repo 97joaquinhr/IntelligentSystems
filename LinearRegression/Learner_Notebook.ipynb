{
  "nbformat": 4,
  "nbformat_minor": 0,
  "metadata": {
    "kernelspec": {
      "display_name": "Python 3",
      "language": "python",
      "name": "python3"
    },
    "language_info": {
      "codemirror_mode": {
        "name": "ipython",
        "version": 3
      },
      "file_extension": ".py",
      "mimetype": "text/x-python",
      "name": "python",
      "nbconvert_exporter": "python",
      "pygments_lexer": "ipython3",
      "version": "3.7.0"
    },
    "colab": {
      "name": "Learner Notebook.ipynb",
      "provenance": [],
      "collapsed_sections": []
    }
  },
  "cells": [
    {
      "cell_type": "markdown",
      "metadata": {
        "id": "DeIIGXsmco84",
        "colab_type": "text"
      },
      "source": [
        "# Task 1: Introduction"
      ]
    },
    {
      "cell_type": "code",
      "metadata": {
        "id": "H9ZeOZd0co86",
        "colab_type": "code",
        "colab": {}
      },
      "source": [
        "%matplotlib inline\n",
        "\n",
        "import numpy as np\n",
        "import matplotlib.pyplot as plt"
      ],
      "execution_count": null,
      "outputs": []
    },
    {
      "cell_type": "markdown",
      "metadata": {
        "id": "lyYuniRgco9D",
        "colab_type": "text"
      },
      "source": [
        "# Task 2: Dataset\n",
        "\n",
        "Real estate agent table:"
      ]
    },
    {
      "cell_type": "markdown",
      "metadata": {
        "id": "r11ltxpsco9D",
        "colab_type": "text"
      },
      "source": [
        "|Area|Distance|Price|\n",
        "|---|---|---|\n",
        "|70|3|21200|\n",
        "|50|1|22010|\n",
        "|120|9|24305|\n",
        "|100|2|31500|\n",
        "\n",
        "You can write the relationship with a 2-variable linear equation:\n",
        "\n",
        "$\n",
        "\\begin{equation}\n",
        "y = b + w_1.x_1 + w_2.x_2\n",
        "\\end{equation}\n",
        "$\n",
        "\n",
        "In a vector form:\n",
        "\n",
        "$\n",
        "\\begin{equation}\n",
        "y = b + (w_1 w_2).\\binom{x_1}{x_2}\n",
        "\\end{equation}\n",
        "$\n",
        "\n",
        "Where\n",
        "$\n",
        "\\begin{equation}\n",
        "W = (w_1 w_2)\n",
        "\\end{equation}\n",
        "$\n",
        "and\n",
        "$\n",
        "\\begin{equation}\n",
        "X = \\binom{x_1}{x_2}\n",
        "\\end{equation}\n",
        "$"
      ]
    },
    {
      "cell_type": "code",
      "metadata": {
        "id": "Cs-tGicRco9E",
        "colab_type": "code",
        "colab": {}
      },
      "source": [
        "def generate_examples(num=1000):\n",
        "  W = [1.0, -3.0]\n",
        "  b = 1.0\n",
        "\n",
        "  W = np.reshape(W, (2,1)) # [[1.][-3.]]\n",
        "  X = np.random.randn(num,2)\n",
        "\n",
        "  y = b + np.dot(X, W) +  np.random.randn()\n",
        "  y = np.reshape(y, (num,1))\n",
        "  return X, y"
      ],
      "execution_count": null,
      "outputs": []
    },
    {
      "cell_type": "code",
      "metadata": {
        "id": "HhoOsv5Mco9I",
        "colab_type": "code",
        "colab": {}
      },
      "source": [
        "X, y = generate_examples()"
      ],
      "execution_count": null,
      "outputs": []
    },
    {
      "cell_type": "code",
      "metadata": {
        "id": "OG9w_R2yco9L",
        "colab_type": "code",
        "colab": {
          "base_uri": "https://localhost:8080/",
          "height": 153
        },
        "outputId": "e7e25194-239a-49ac-c695-2031f9096644"
      },
      "source": [
        "print(X.shape, y.shape)\n",
        "print(X)"
      ],
      "execution_count": null,
      "outputs": [
        {
          "output_type": "stream",
          "text": [
            "(1000, 2) (1000, 1)\n",
            "[[ 1.20210036 -0.89424636]\n",
            " [-1.06889154 -0.18746774]\n",
            " [-0.47471475  0.21026517]\n",
            " ...\n",
            " [ 1.42088064 -0.1717873 ]\n",
            " [-0.80878846 -0.12337594]\n",
            " [ 1.27718041  0.07721659]]\n"
          ],
          "name": "stdout"
        }
      ]
    },
    {
      "cell_type": "code",
      "metadata": {
        "id": "LedmHgn9co9Q",
        "colab_type": "code",
        "colab": {
          "base_uri": "https://localhost:8080/",
          "height": 34
        },
        "outputId": "1dd22907-81d0-48d7-ed01-eacbf45732a1"
      },
      "source": [
        "print(X[0], y[0])"
      ],
      "execution_count": null,
      "outputs": [
        {
          "output_type": "stream",
          "text": [
            "[-0.30110663  0.04761773] [0.17322329]\n"
          ],
          "name": "stdout"
        }
      ]
    },
    {
      "cell_type": "markdown",
      "metadata": {
        "id": "PHey4Ejnco9U",
        "colab_type": "text"
      },
      "source": [
        "# Task 3: Initialize Parameters"
      ]
    },
    {
      "cell_type": "markdown",
      "metadata": {
        "id": "VndtYihLco9U",
        "colab_type": "text"
      },
      "source": [
        "The loss over **m** examples:\n",
        "\n",
        "$\n",
        "\\begin{equation}\n",
        "J = \\frac{1}{2m} \\sum_{i=1}^{m} (y - \\hat{y})^2\n",
        "\\end{equation}\n",
        "$\n",
        "\n",
        "The objective of the gradient descent algorithm is to minimize this loss value.\n",
        "\n",
        "Gradient Descent Objective is to \n",
        "$\n",
        "\\begin{equation}\n",
        "min(J)\n",
        "\\end{equation}\n",
        "$"
      ]
    },
    {
      "cell_type": "code",
      "metadata": {
        "id": "lQ91DkETco9V",
        "colab_type": "code",
        "colab": {}
      },
      "source": [
        "class Model: \n",
        "  def __init__(self, num_features):\n",
        "    self.num_features = num_features\n",
        "    self.W =  np.random.randn(num_features, 1)\n",
        "    self.b = np.random.randn()"
      ],
      "execution_count": null,
      "outputs": []
    },
    {
      "cell_type": "code",
      "metadata": {
        "id": "t5WSDcXfco9Z",
        "colab_type": "code",
        "colab": {
          "base_uri": "https://localhost:8080/",
          "height": 68
        },
        "outputId": "4766b370-5ef7-45a2-931c-d5d913be5672"
      },
      "source": [
        "model = Model(2)\n",
        "print(model.W)\n",
        "print(model.b)"
      ],
      "execution_count": null,
      "outputs": [
        {
          "output_type": "stream",
          "text": [
            "[[-0.18886258]\n",
            " [-1.54022288]]\n",
            "1.5281247653008718\n"
          ],
          "name": "stdout"
        }
      ]
    },
    {
      "cell_type": "markdown",
      "metadata": {
        "id": "Hy0NfdyNco9d",
        "colab_type": "text"
      },
      "source": [
        "# Task 4: Forward Pass"
      ]
    },
    {
      "cell_type": "markdown",
      "metadata": {
        "id": "nKJ1M-2fco9e",
        "colab_type": "text"
      },
      "source": [
        "The gradient descent algorithm can be simplified in 4 steps:\n",
        "\n",
        "1. Get predictions y_hat for X with current values of W and b.\n",
        "2. Compute the loss between y and y_hat\n",
        "3. Find gradients of the loss with respect to parameters W and b\n",
        "4. Update the values of W and b by subtracting the gradient values obtained in the previous step\n",
        "\n",
        "Let's simplify our linear equation a bit more for an example:\n",
        "$\n",
        "\\begin{equation}\n",
        "y = wx\n",
        "\\end{equation}\n",
        "$\n",
        "\n",
        "Let's plot J as a function of w\n",
        "\n",
        "![Loss vs Param](JvsW.png)\n",
        "\n",
        "The gradients of loss with respect to w:\n",
        "\n",
        "\\begin{equation}\n",
        "\\frac{dJ}{dw} = \\frac{\\delta{J}}{\\delta{w}} = \\lim_{\\epsilon \\to 0} \\frac{J(w + \\epsilon) - J(w)}{\\epsilon}\n",
        "\\end{equation}"
      ]
    },
    {
      "cell_type": "code",
      "metadata": {
        "id": "yhbBEclnco9f",
        "colab_type": "code",
        "colab": {}
      },
      "source": [
        "class Model(Model):\n",
        "  def forward_pass(self, X):\n",
        "    y_hat = self.b + np.dot(X, self.W)\n",
        "    return y_hat"
      ],
      "execution_count": null,
      "outputs": []
    },
    {
      "cell_type": "code",
      "metadata": {
        "id": "H3mAgdu0co9i",
        "colab_type": "code",
        "colab": {
          "base_uri": "https://localhost:8080/",
          "height": 34
        },
        "outputId": "b930e07b-9785-4a3e-f5a0-f1b495326ade"
      },
      "source": [
        "y_hat = Model(2).forward_pass(X)\n",
        "print(y_hat.shape, y_hat[0])"
      ],
      "execution_count": null,
      "outputs": [
        {
          "output_type": "stream",
          "text": [
            "(1000, 1) [-2.07660271]\n"
          ],
          "name": "stdout"
        }
      ]
    },
    {
      "cell_type": "markdown",
      "metadata": {
        "id": "GikyvF-Kco9l",
        "colab_type": "text"
      },
      "source": [
        "# Task 5: Compute Loss\n",
        "\n",
        "The loss over **m** examples:\n",
        "\n",
        "$\n",
        "\\begin{equation}\n",
        "J = \\frac{1}{2m} \\sum_{i=1}^{m} (y - \\hat{y})^2\n",
        "\\end{equation}\n",
        "$"
      ]
    },
    {
      "cell_type": "code",
      "metadata": {
        "id": "6Rn4sWgaco9m",
        "colab_type": "code",
        "colab": {}
      },
      "source": [
        "class Model(Model):\n",
        "  def compute_loss(self, y_hat, y_true):\n",
        "    return np.sum(np.square(y_hat-y_true))/(2*y_hat.shape[0])"
      ],
      "execution_count": null,
      "outputs": []
    },
    {
      "cell_type": "code",
      "metadata": {
        "id": "epwnjiQBco9r",
        "colab_type": "code",
        "colab": {}
      },
      "source": [
        "model = Model(2)\n",
        "y_hat = model.forward_pass(X)\n",
        "loss = model.compute_loss(y_hat, y)"
      ],
      "execution_count": null,
      "outputs": []
    },
    {
      "cell_type": "code",
      "metadata": {
        "id": "vRkUON7Pco9w",
        "colab_type": "code",
        "colab": {
          "base_uri": "https://localhost:8080/",
          "height": 34
        },
        "outputId": "e58c3add-4cd8-413a-9cb3-7f7bf37749be"
      },
      "source": [
        "loss"
      ],
      "execution_count": null,
      "outputs": [
        {
          "output_type": "execute_result",
          "data": {
            "text/plain": [
              "8.926651506357517"
            ]
          },
          "metadata": {
            "tags": []
          },
          "execution_count": 41
        }
      ]
    },
    {
      "cell_type": "markdown",
      "metadata": {
        "id": "2jluqPvVco9z",
        "colab_type": "text"
      },
      "source": [
        "# Task 6: Backward Pass\n",
        "\n",
        "The gradient of loss with respect to bias can be calculated with:\n",
        "\n",
        "$\n",
        "\\begin{equation}\n",
        "\\frac{dJ}{db} = \\frac{1}{m} \\sum_{i=1}^{m} (\\hat{y^{(i)}} - y^{(i)})\n",
        "\\end{equation}\n",
        "$\n",
        "\n",
        "$\n",
        "\\begin{equation}\n",
        "\\frac{dJ}{dW_j} = \\frac{1}{m} \\sum_{i=1}^{m} (\\hat{y^{(i)}} - y^{(i)}).x_j^{(i)}\n",
        "\\end{equation}\n",
        "$"
      ]
    },
    {
      "cell_type": "code",
      "metadata": {
        "id": "AFdyWoPEco90",
        "colab_type": "code",
        "colab": {}
      },
      "source": [
        "class Model(Model):\n",
        "  def backward_pass(self, X, y_true, y_hat):\n",
        "    m = y_true.shape[0]\n",
        "    dW = (1/m)* np.sum(np.dot(np.transpose(y_hat - y_true), X), axis=0)\n",
        "    db = (1/m)*np.sum(y_hat - y_true)\n",
        "    return dW, db"
      ],
      "execution_count": null,
      "outputs": []
    },
    {
      "cell_type": "code",
      "metadata": {
        "id": "aLMfWRPDco93",
        "colab_type": "code",
        "colab": {}
      },
      "source": [
        "model = Model(2)\n",
        "\n",
        "X, y = generate_examples()\n",
        "y_hat = model.forward_pass(X)\n",
        "dW, db = model.backward_pass(X, y, y_hat)"
      ],
      "execution_count": null,
      "outputs": []
    },
    {
      "cell_type": "code",
      "metadata": {
        "id": "OA6Gb2iAco97",
        "colab_type": "code",
        "colab": {
          "base_uri": "https://localhost:8080/",
          "height": 34
        },
        "outputId": "cfa9a681-bb40-4206-dbaa-ec05c4c3eee9"
      },
      "source": [
        "print(dW, db)"
      ],
      "execution_count": null,
      "outputs": [
        {
          "output_type": "stream",
          "text": [
            "[0.51944721 2.35143767] -0.4507144051384354\n"
          ],
          "name": "stdout"
        }
      ]
    },
    {
      "cell_type": "markdown",
      "metadata": {
        "id": "Yb0O_v_Wco9-",
        "colab_type": "text"
      },
      "source": [
        "# Task 7: Update Parameters"
      ]
    },
    {
      "cell_type": "code",
      "metadata": {
        "id": "zjugGJjWco9_",
        "colab_type": "code",
        "colab": {}
      },
      "source": [
        "class Model(Model):\n",
        "  def update_params(self, dW, db, lr):\n",
        "    self.W = self.W - lr * np.reshape(dW, (self.num_features, 1))\n",
        "    self.b = self.b - db"
      ],
      "execution_count": null,
      "outputs": []
    },
    {
      "cell_type": "markdown",
      "metadata": {
        "id": "WFO1wrgpco-D",
        "colab_type": "text"
      },
      "source": [
        "# Task 8: Training Loop"
      ]
    },
    {
      "cell_type": "code",
      "metadata": {
        "id": "-ZqyHBezco-E",
        "colab_type": "code",
        "colab": {}
      },
      "source": [
        "class Model(Model):\n",
        "  def train(self, x_train, y_train, iterations, lr):\n",
        "    losses = []\n",
        "    for i in range(0, iterations):\n",
        "      y_hat = self.forward_pass(x_train)\n",
        "      loss = self.compute_loss(y_hat, y_train)\n",
        "      dW, db = self.backward_pass(x_train, y_train, y_hat)\n",
        "      self.update_params(dW, db, lr)\n",
        "      losses.append(loss)\n",
        "      if i%int(iterations/10) == 0:\n",
        "          print('Iter {}, Loss: {:.4f}'.format(i, loss))\n",
        "    return losses"
      ],
      "execution_count": null,
      "outputs": []
    },
    {
      "cell_type": "code",
      "metadata": {
        "id": "cOoeLamaco-G",
        "colab_type": "code",
        "colab": {}
      },
      "source": [
        "model = Model(2)"
      ],
      "execution_count": null,
      "outputs": []
    },
    {
      "cell_type": "code",
      "metadata": {
        "id": "oM9dGYBMco-J",
        "colab_type": "code",
        "colab": {}
      },
      "source": [
        "x_train, y_train = generate_examples()"
      ],
      "execution_count": null,
      "outputs": []
    },
    {
      "cell_type": "code",
      "metadata": {
        "id": "UjbvNWJrco-M",
        "colab_type": "code",
        "colab": {
          "base_uri": "https://localhost:8080/",
          "height": 187
        },
        "outputId": "c92d17b3-c90c-4c85-b1e1-f2bc83426f0d"
      },
      "source": [
        "losses = model.train(x_train, y_train, 1000, 3e-3)"
      ],
      "execution_count": null,
      "outputs": [
        {
          "output_type": "stream",
          "text": [
            "Iter 0, Loss: 4.5629\n",
            "Iter 100, Loss: 2.4829\n",
            "Iter 200, Loss: 1.3913\n",
            "Iter 300, Loss: 0.7797\n",
            "Iter 400, Loss: 0.4369\n",
            "Iter 500, Loss: 0.2448\n",
            "Iter 600, Loss: 0.1372\n",
            "Iter 700, Loss: 0.0769\n",
            "Iter 800, Loss: 0.0431\n",
            "Iter 900, Loss: 0.0241\n"
          ],
          "name": "stdout"
        }
      ]
    },
    {
      "cell_type": "code",
      "metadata": {
        "id": "bst-8P1Vco-P",
        "colab_type": "code",
        "colab": {
          "base_uri": "https://localhost:8080/",
          "height": 282
        },
        "outputId": "0769737f-1b82-42a7-e0c6-94fdcb3b212b"
      },
      "source": [
        "plt.plot(losses)"
      ],
      "execution_count": null,
      "outputs": [
        {
          "output_type": "execute_result",
          "data": {
            "text/plain": [
              "[<matplotlib.lines.Line2D at 0x7f43848d3ac8>]"
            ]
          },
          "metadata": {
            "tags": []
          },
          "execution_count": 65
        },
        {
          "output_type": "display_data",
          "data": {
            "image/png": "[encoded data removed]",
            "text/plain": [
              "<Figure size 432x288 with 1 Axes>"
            ]
          },
          "metadata": {
            "tags": [],
            "needs_background": "light"
          }
        }
      ]
    },
    {
      "cell_type": "markdown",
      "metadata": {
        "id": "wWnf5Kn3co-R",
        "colab_type": "text"
      },
      "source": [
        "# Task 9: Predictions"
      ]
    },
    {
      "cell_type": "code",
      "metadata": {
        "id": "y75vsB_Nco-S",
        "colab_type": "code",
        "colab": {
          "base_uri": "https://localhost:8080/",
          "height": 34
        },
        "outputId": "3bace549-d1e5-431d-bc7e-736e98a424f5"
      },
      "source": [
        "model_untrained = Model(2)\n",
        "\n",
        "x_test, y_test = generate_examples(500)\n",
        "print(x_test.shape, y_test.shape)"
      ],
      "execution_count": null,
      "outputs": [
        {
          "output_type": "stream",
          "text": [
            "(500, 2) (500, 1)\n"
          ],
          "name": "stdout"
        }
      ]
    },
    {
      "cell_type": "code",
      "metadata": {
        "id": "cJdO2foaco-W",
        "colab_type": "code",
        "colab": {}
      },
      "source": [
        "preds_untrained = model_untrained.forward_pass(x_test)\n",
        "preds_trained = model.forward_pass(x_test)\n"
      ],
      "execution_count": null,
      "outputs": []
    },
    {
      "cell_type": "code",
      "metadata": {
        "id": "wk5A6Xa0co-Z",
        "colab_type": "code",
        "colab": {
          "base_uri": "https://localhost:8080/",
          "height": 388
        },
        "outputId": "e4bbff6a-5814-43d8-d1ca-8540522e5ba9"
      },
      "source": [
        "plt.figure(figsize=(6, 6))\n",
        "plt.plot(preds_untrained, y_test, 'rx', label=\"untrained\")\n",
        "plt.plot(preds_trained, y_test, 'b.', label=\"trained\")\n",
        "plt.legend()\n",
        "plt.xlabel('Predictions')\n",
        "plt.ylabel('Truth')\n",
        "plt.show()"
      ],
      "execution_count": null,
      "outputs": [
        {
          "output_type": "display_data",
          "data": {
            "image/png": "[encoded data removed]",
            "text/plain": [
              "<Figure size 432x432 with 1 Axes>"
            ]
          },
          "metadata": {
            "tags": [],
            "needs_background": "light"
          }
        }
      ]
    },
    {
      "cell_type": "code",
      "metadata": {
        "id": "lHVZFt8osWbw",
        "colab_type": "code",
        "colab": {}
      },
      "source": [
        ""
      ],
      "execution_count": null,
      "outputs": []
    }
  ]
}